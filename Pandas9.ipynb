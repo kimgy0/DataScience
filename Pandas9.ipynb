{
 "cells": [
  {
   "cell_type": "markdown",
   "metadata": {},
   "source": [
    "# 간단한 함수 만들기\n",
    "### 함수의 기본 구조와 제공함수와 n제곱함수 만들기"
   ]
  },
  {
   "cell_type": "code",
   "execution_count": 3,
   "metadata": {},
   "outputs": [],
   "source": [
    "#def my_func():\n",
    "#기본 코드의 구조"
   ]
  },
  {
   "cell_type": "code",
   "execution_count": 4,
   "metadata": {},
   "outputs": [],
   "source": [
    "def my_sq(x):\n",
    "    return x**2"
   ]
  },
  {
   "cell_type": "code",
   "execution_count": 5,
   "metadata": {},
   "outputs": [],
   "source": [
    "def my_exp(x,n):\n",
    "    return x**n"
   ]
  },
  {
   "cell_type": "code",
   "execution_count": 6,
   "metadata": {},
   "outputs": [
    {
     "name": "stdout",
     "output_type": "stream",
     "text": [
      "16\n"
     ]
    }
   ],
   "source": [
    "print(my_sq(4))"
   ]
  },
  {
   "cell_type": "code",
   "execution_count": 7,
   "metadata": {},
   "outputs": [
    {
     "name": "stdout",
     "output_type": "stream",
     "text": [
      "16\n"
     ]
    }
   ],
   "source": [
    "print(my_exp(2,4))"
   ]
  },
  {
   "cell_type": "markdown",
   "metadata": {},
   "source": [
    "# apply메서드 사용하기-기초"
   ]
  },
  {
   "cell_type": "code",
   "execution_count": 8,
   "metadata": {},
   "outputs": [
    {
     "name": "stdout",
     "output_type": "stream",
     "text": [
      "    a   b\n",
      "0  10  20\n",
      "1  20  30\n",
      "2  30  40\n"
     ]
    }
   ],
   "source": [
    "#시리즈와 apply 메서드\n",
    "\n",
    "import pandas as pd\n",
    "df=pd.DataFrame({'a':[10,20,30], 'b':[20,30,40]})\n",
    "#dataframe 은 인자를 딕셔너리 형식으로 가지며 키값이 열을 의미합니다.\n",
    "print(df)"
   ]
  },
  {
   "cell_type": "code",
   "execution_count": 9,
   "metadata": {},
   "outputs": [
    {
     "name": "stdout",
     "output_type": "stream",
     "text": [
      "0    100\n",
      "1    400\n",
      "2    900\n",
      "Name: a, dtype: int64\n"
     ]
    }
   ],
   "source": [
    "print(df['a']**2)"
   ]
  },
  {
   "cell_type": "code",
   "execution_count": 10,
   "metadata": {},
   "outputs": [
    {
     "name": "stdout",
     "output_type": "stream",
     "text": [
      "0    100\n",
      "1    400\n",
      "2    900\n",
      "Name: a, dtype: int64\n"
     ]
    }
   ],
   "source": [
    "#apply 메서드\n",
    "sq=df['a'].apply(my_sq)\n",
    "#열에대해 원래는 **2를 해줘야 하지만 apply로 함수를 적용시켜 열을 인자로 가진다.\n",
    "print(sq)"
   ]
  },
  {
   "cell_type": "code",
   "execution_count": 11,
   "metadata": {},
   "outputs": [
    {
     "name": "stdout",
     "output_type": "stream",
     "text": [
      "0    100\n",
      "1    400\n",
      "2    900\n",
      "Name: a, dtype: int64\n"
     ]
    }
   ],
   "source": [
    "ex=df['a'].apply(my_exp, n=2)\n",
    "#인자가 두개이상일 때는 n=2 이런식으로 넣어준다.\n",
    "print(ex)"
   ]
  },
  {
   "cell_type": "code",
   "execution_count": 12,
   "metadata": {},
   "outputs": [
    {
     "name": "stdout",
     "output_type": "stream",
     "text": [
      "0     1000\n",
      "1     8000\n",
      "2    27000\n",
      "Name: a, dtype: int64\n"
     ]
    }
   ],
   "source": [
    "ex=df['a'].apply(my_exp, n=3)\n",
    "#인자가 두개이상일 때는 n=3 이런식으로 넣어준다.\n",
    "print(ex)"
   ]
  },
  {
   "cell_type": "markdown",
   "metadata": {},
   "source": [
    "# 데이터프레임과 apply 메서드"
   ]
  },
  {
   "cell_type": "code",
   "execution_count": 13,
   "metadata": {},
   "outputs": [
    {
     "name": "stdout",
     "output_type": "stream",
     "text": [
      "    a   b\n",
      "0  10  20\n",
      "1  20  30\n",
      "2  30  40\n"
     ]
    }
   ],
   "source": [
    "df=pd.DataFrame({'a':[10,20,30],'b':[20,30,40]})\n",
    "print(df)"
   ]
  },
  {
   "cell_type": "code",
   "execution_count": 14,
   "metadata": {},
   "outputs": [],
   "source": [
    "def print_me(x):\n",
    "    print(x)"
   ]
  },
  {
   "cell_type": "code",
   "execution_count": 15,
   "metadata": {},
   "outputs": [
    {
     "name": "stdout",
     "output_type": "stream",
     "text": [
      "0    10\n",
      "1    20\n",
      "2    30\n",
      "Name: a, dtype: int64\n",
      "0    20\n",
      "1    30\n",
      "2    40\n",
      "Name: b, dtype: int64\n",
      "a    None\n",
      "b    None\n",
      "dtype: object\n"
     ]
    }
   ],
   "source": [
    "print(df.apply(print_me, axis=0))"
   ]
  },
  {
   "cell_type": "code",
   "execution_count": 47,
   "metadata": {},
   "outputs": [
    {
     "name": "stdout",
     "output_type": "stream",
     "text": [
      "a    10\n",
      "b    20\n",
      "Name: 0, dtype: int64\n",
      "a    20\n",
      "b    30\n",
      "Name: 1, dtype: int64\n",
      "a    30\n",
      "b    40\n",
      "Name: 2, dtype: int64\n",
      "0    None\n",
      "1    None\n",
      "2    None\n",
      "dtype: object\n"
     ]
    }
   ],
   "source": [
    "print(df.apply(print_me, axis=1))"
   ]
  },
  {
   "cell_type": "code",
   "execution_count": 18,
   "metadata": {},
   "outputs": [
    {
     "name": "stdout",
     "output_type": "stream",
     "text": [
      "0    10\n",
      "1    20\n",
      "2    30\n",
      "Name: a, dtype: int64\n",
      "0    20\n",
      "1    30\n",
      "2    40\n",
      "Name: b, dtype: int64\n"
     ]
    }
   ],
   "source": [
    "#print(df.apply(print_me, axis=1)) 행방향으로 10 40 이런식으로 한쌍씩\n",
    "print(df['a'])\n",
    "print(df['b'])"
   ]
  },
  {
   "cell_type": "markdown",
   "metadata": {},
   "source": [
    "--------------------------------------------------------------------------------------------------------"
   ]
  },
  {
   "cell_type": "code",
   "execution_count": 19,
   "metadata": {},
   "outputs": [],
   "source": [
    "def avg_3(x,y,z):\n",
    "    return (x+y+z)/3"
   ]
  },
  {
   "cell_type": "code",
   "execution_count": 20,
   "metadata": {},
   "outputs": [
    {
     "ename": "TypeError",
     "evalue": "avg_3() missing 2 required positional arguments: 'y' and 'z'",
     "output_type": "error",
     "traceback": [
      "\u001b[1;31m---------------------------------------------------------------------------\u001b[0m",
      "\u001b[1;31mTypeError\u001b[0m                                 Traceback (most recent call last)",
      "\u001b[1;32m<ipython-input-20-60357ad98728>\u001b[0m in \u001b[0;36m<module>\u001b[1;34m\u001b[0m\n\u001b[1;32m----> 1\u001b[1;33m \u001b[0mprint\u001b[0m\u001b[1;33m(\u001b[0m\u001b[0mdf\u001b[0m\u001b[1;33m.\u001b[0m\u001b[0mapply\u001b[0m\u001b[1;33m(\u001b[0m\u001b[0mavg_3\u001b[0m\u001b[1;33m)\u001b[0m\u001b[1;33m)\u001b[0m\u001b[1;33m\u001b[0m\u001b[1;33m\u001b[0m\u001b[0m\n\u001b[0m",
      "\u001b[1;32mC:\\ProgramData\\Anaconda3\\lib\\site-packages\\pandas\\core\\frame.py\u001b[0m in \u001b[0;36mapply\u001b[1;34m(self, func, axis, raw, result_type, args, **kwds)\u001b[0m\n\u001b[0;32m   6876\u001b[0m             \u001b[0mkwds\u001b[0m\u001b[1;33m=\u001b[0m\u001b[0mkwds\u001b[0m\u001b[1;33m,\u001b[0m\u001b[1;33m\u001b[0m\u001b[1;33m\u001b[0m\u001b[0m\n\u001b[0;32m   6877\u001b[0m         )\n\u001b[1;32m-> 6878\u001b[1;33m         \u001b[1;32mreturn\u001b[0m \u001b[0mop\u001b[0m\u001b[1;33m.\u001b[0m\u001b[0mget_result\u001b[0m\u001b[1;33m(\u001b[0m\u001b[1;33m)\u001b[0m\u001b[1;33m\u001b[0m\u001b[1;33m\u001b[0m\u001b[0m\n\u001b[0m\u001b[0;32m   6879\u001b[0m \u001b[1;33m\u001b[0m\u001b[0m\n\u001b[0;32m   6880\u001b[0m     \u001b[1;32mdef\u001b[0m \u001b[0mapplymap\u001b[0m\u001b[1;33m(\u001b[0m\u001b[0mself\u001b[0m\u001b[1;33m,\u001b[0m \u001b[0mfunc\u001b[0m\u001b[1;33m)\u001b[0m \u001b[1;33m->\u001b[0m \u001b[1;34m\"DataFrame\"\u001b[0m\u001b[1;33m:\u001b[0m\u001b[1;33m\u001b[0m\u001b[1;33m\u001b[0m\u001b[0m\n",
      "\u001b[1;32mC:\\ProgramData\\Anaconda3\\lib\\site-packages\\pandas\\core\\apply.py\u001b[0m in \u001b[0;36mget_result\u001b[1;34m(self)\u001b[0m\n\u001b[0;32m    184\u001b[0m             \u001b[1;32mreturn\u001b[0m \u001b[0mself\u001b[0m\u001b[1;33m.\u001b[0m\u001b[0mapply_raw\u001b[0m\u001b[1;33m(\u001b[0m\u001b[1;33m)\u001b[0m\u001b[1;33m\u001b[0m\u001b[1;33m\u001b[0m\u001b[0m\n\u001b[0;32m    185\u001b[0m \u001b[1;33m\u001b[0m\u001b[0m\n\u001b[1;32m--> 186\u001b[1;33m         \u001b[1;32mreturn\u001b[0m \u001b[0mself\u001b[0m\u001b[1;33m.\u001b[0m\u001b[0mapply_standard\u001b[0m\u001b[1;33m(\u001b[0m\u001b[1;33m)\u001b[0m\u001b[1;33m\u001b[0m\u001b[1;33m\u001b[0m\u001b[0m\n\u001b[0m\u001b[0;32m    187\u001b[0m \u001b[1;33m\u001b[0m\u001b[0m\n\u001b[0;32m    188\u001b[0m     \u001b[1;32mdef\u001b[0m \u001b[0mapply_empty_result\u001b[0m\u001b[1;33m(\u001b[0m\u001b[0mself\u001b[0m\u001b[1;33m)\u001b[0m\u001b[1;33m:\u001b[0m\u001b[1;33m\u001b[0m\u001b[1;33m\u001b[0m\u001b[0m\n",
      "\u001b[1;32mC:\\ProgramData\\Anaconda3\\lib\\site-packages\\pandas\\core\\apply.py\u001b[0m in \u001b[0;36mapply_standard\u001b[1;34m(self)\u001b[0m\n\u001b[0;32m    293\u001b[0m \u001b[1;33m\u001b[0m\u001b[0m\n\u001b[0;32m    294\u001b[0m             \u001b[1;32mtry\u001b[0m\u001b[1;33m:\u001b[0m\u001b[1;33m\u001b[0m\u001b[1;33m\u001b[0m\u001b[0m\n\u001b[1;32m--> 295\u001b[1;33m                 result = libreduction.compute_reduction(\n\u001b[0m\u001b[0;32m    296\u001b[0m                     \u001b[0mvalues\u001b[0m\u001b[1;33m,\u001b[0m \u001b[0mself\u001b[0m\u001b[1;33m.\u001b[0m\u001b[0mf\u001b[0m\u001b[1;33m,\u001b[0m \u001b[0maxis\u001b[0m\u001b[1;33m=\u001b[0m\u001b[0mself\u001b[0m\u001b[1;33m.\u001b[0m\u001b[0maxis\u001b[0m\u001b[1;33m,\u001b[0m \u001b[0mdummy\u001b[0m\u001b[1;33m=\u001b[0m\u001b[0mdummy\u001b[0m\u001b[1;33m,\u001b[0m \u001b[0mlabels\u001b[0m\u001b[1;33m=\u001b[0m\u001b[0mlabels\u001b[0m\u001b[1;33m\u001b[0m\u001b[1;33m\u001b[0m\u001b[0m\n\u001b[0;32m    297\u001b[0m                 )\n",
      "\u001b[1;32mpandas\\_libs\\reduction.pyx\u001b[0m in \u001b[0;36mpandas._libs.reduction.compute_reduction\u001b[1;34m()\u001b[0m\n",
      "\u001b[1;32mpandas\\_libs\\reduction.pyx\u001b[0m in \u001b[0;36mpandas._libs.reduction.Reducer.get_result\u001b[1;34m()\u001b[0m\n",
      "\u001b[1;31mTypeError\u001b[0m: avg_3() missing 2 required positional arguments: 'y' and 'z'"
     ]
    }
   ],
   "source": [
    "print(df.apply(avg_3))\n",
    "#인자값이 부족하니 에러가 뜰 수 밖에 없습니다."
   ]
  },
  {
   "cell_type": "code",
   "execution_count": 23,
   "metadata": {},
   "outputs": [
    {
     "name": "stdout",
     "output_type": "stream",
     "text": [
      "a    20.0\n",
      "b    30.0\n",
      "dtype: float64\n"
     ]
    }
   ],
   "source": [
    "def avg_3_apply(col):\n",
    "    x=col[0]\n",
    "    y=col[1]\n",
    "    z=col[2]\n",
    "    return (x+y+z)/3\n",
    "\n",
    "print(df.apply(avg_3_apply))"
   ]
  },
  {
   "cell_type": "code",
   "execution_count": 25,
   "metadata": {},
   "outputs": [],
   "source": [
    "#일반적으로는 for 문을 사용합니다\n",
    "def avg_3_apply(col):\n",
    "    sum=0\n",
    "    for item in col:\n",
    "        sum=sum+item\n",
    "    return sum/df.shape[0]"
   ]
  },
  {
   "cell_type": "code",
   "execution_count": 26,
   "metadata": {},
   "outputs": [],
   "source": [
    "#행방향으로 data처리하는 함수\n",
    "def avg_2_apply(row):\n",
    "    sum=0\n",
    "    for item in row:\n",
    "        sum=sum+item\n",
    "    return sum/df.shape[1]\n",
    "print(df.apply(avg_2_apply, axis=1))#행방향으로 하니 1을 적용"
   ]
  },
  {
   "cell_type": "markdown",
   "metadata": {},
   "source": [
    "# apply메서드 사용하기 - 고급"
   ]
  },
  {
   "cell_type": "code",
   "execution_count": 27,
   "metadata": {},
   "outputs": [
    {
     "name": "stdout",
     "output_type": "stream",
     "text": [
      "     survived  pclass     sex   age  sibsp  parch     fare embarked   class  \\\n",
      "0           0       3    male  22.0      1      0   7.2500        S   Third   \n",
      "1           1       1  female  38.0      1      0  71.2833        C   First   \n",
      "2           1       3  female  26.0      0      0   7.9250        S   Third   \n",
      "3           1       1  female  35.0      1      0  53.1000        S   First   \n",
      "4           0       3    male  35.0      0      0   8.0500        S   Third   \n",
      "..        ...     ...     ...   ...    ...    ...      ...      ...     ...   \n",
      "886         0       2    male  27.0      0      0  13.0000        S  Second   \n",
      "887         1       1  female  19.0      0      0  30.0000        S   First   \n",
      "888         0       3  female   NaN      1      2  23.4500        S   Third   \n",
      "889         1       1    male  26.0      0      0  30.0000        C   First   \n",
      "890         0       3    male  32.0      0      0   7.7500        Q   Third   \n",
      "\n",
      "       who  adult_male deck  embark_town alive  alone  \n",
      "0      man        True  NaN  Southampton    no  False  \n",
      "1    woman       False    C    Cherbourg   yes  False  \n",
      "2    woman       False  NaN  Southampton   yes   True  \n",
      "3    woman       False    C  Southampton   yes  False  \n",
      "4      man        True  NaN  Southampton    no   True  \n",
      "..     ...         ...  ...          ...   ...    ...  \n",
      "886    man        True  NaN  Southampton    no   True  \n",
      "887  woman       False    B  Southampton   yes   True  \n",
      "888  woman       False  NaN  Southampton    no  False  \n",
      "889    man        True    C    Cherbourg   yes   True  \n",
      "890    man        True  NaN   Queenstown    no   True  \n",
      "\n",
      "[891 rows x 15 columns]\n"
     ]
    }
   ],
   "source": [
    "import seaborn as sns\n",
    "\n",
    "titanic=sns.load_dataset(\"titanic\")\n",
    "#seaborn에서 dataset을 불러올 때는 load_dataset(\"이름\") 이라고 한다.\n",
    "print(titanic)"
   ]
  },
  {
   "cell_type": "code",
   "execution_count": 30,
   "metadata": {},
   "outputs": [],
   "source": [
    "import numpy as np\n",
    "\n",
    "def count_missing(vec):\n",
    "    null_vec=pd.isnull(vec)\n",
    "    #데이터프레임에 isnull이 true를 반환하는 null값이 있으면\n",
    "    #열마다 true와 false가 나타나고\n",
    "    #그 열들의 덧셈!true 인것들만!(axis=0)\n",
    "    null_count=np.sum(null_vec)\n",
    "    #그 널값의 합을 카운트 함수에 저장해서 출력하라.\n",
    "    return null_count"
   ]
  },
  {
   "cell_type": "code",
   "execution_count": 31,
   "metadata": {},
   "outputs": [
    {
     "name": "stdout",
     "output_type": "stream",
     "text": [
      "survived         0\n",
      "pclass           0\n",
      "sex              0\n",
      "age            177\n",
      "sibsp            0\n",
      "parch            0\n",
      "fare             0\n",
      "embarked         2\n",
      "class            0\n",
      "who              0\n",
      "adult_male       0\n",
      "deck           688\n",
      "embark_town      2\n",
      "alive            0\n",
      "alone            0\n",
      "dtype: int64\n"
     ]
    }
   ],
   "source": [
    "cmis_col=titanic.apply(count_missing)\n",
    "print(cmis_col)"
   ]
  },
  {
   "cell_type": "code",
   "execution_count": 37,
   "metadata": {},
   "outputs": [],
   "source": [
    "#누락값의 비율을 계산합니다.\n",
    "def prop_missing(vec):\n",
    "    num=count_missing(vec)\n",
    "    dem=vec.size\n",
    "    return num/dem\n",
    "    #vec.size는 모든열이 891"
   ]
  },
  {
   "cell_type": "code",
   "execution_count": 38,
   "metadata": {},
   "outputs": [
    {
     "name": "stdout",
     "output_type": "stream",
     "text": [
      "survived       0.000000\n",
      "pclass         0.000000\n",
      "sex            0.000000\n",
      "age            0.198653\n",
      "sibsp          0.000000\n",
      "parch          0.000000\n",
      "fare           0.000000\n",
      "embarked       0.002245\n",
      "class          0.000000\n",
      "who            0.000000\n",
      "adult_male     0.000000\n",
      "deck           0.772166\n",
      "embark_town    0.002245\n",
      "alive          0.000000\n",
      "alone          0.000000\n",
      "dtype: float64\n"
     ]
    }
   ],
   "source": [
    "pmis_col=titanic.apply(prop_missing)\n",
    "print(pmis_col)"
   ]
  },
  {
   "cell_type": "markdown",
   "metadata": {},
   "source": [
    "# dataframe의 누락값을 처리하기-행방향"
   ]
  },
  {
   "cell_type": "code",
   "execution_count": 41,
   "metadata": {},
   "outputs": [
    {
     "name": "stdout",
     "output_type": "stream",
     "text": [
      "0    1\n",
      "1    0\n",
      "2    1\n",
      "3    0\n",
      "4    1\n",
      "5    2\n",
      "6    0\n",
      "7    1\n",
      "8    1\n",
      "9    1\n",
      "dtype: int64\n"
     ]
    }
   ],
   "source": [
    "def prop_complete(vec):\n",
    "    return 1-prop_missing(vec)\n",
    "#null이 아닌 값들의 비율을 나타냅니다\n",
    "#대신에 각 행을 기준으로 합니다.\n",
    "#열마다 true와 false\n",
    "cmis_row=titanic.apply(count_missing, axis=1)#null의 갯수를 나타냅니다.\n",
    "pmis_row=titanic.apply(prop_missing, axis=1)#null을 가진 값들의 비율을 나타냅니다\n",
    "pcom_row=titanic.apply(prop_complete, axis=1)#null이 아닌 값들의 비율을 나타냅니다\n",
    "\n",
    "print(cmis_row.head(n=10))"
   ]
  },
  {
   "cell_type": "code",
   "execution_count": 42,
   "metadata": {},
   "outputs": [
    {
     "name": "stdout",
     "output_type": "stream",
     "text": [
      "0    0.066667\n",
      "1    0.000000\n",
      "2    0.066667\n",
      "3    0.000000\n",
      "4    0.066667\n",
      "dtype: float64\n"
     ]
    }
   ],
   "source": [
    "print(pmis_row.head())"
   ]
  },
  {
   "cell_type": "code",
   "execution_count": 43,
   "metadata": {},
   "outputs": [
    {
     "name": "stdout",
     "output_type": "stream",
     "text": [
      "0    0.933333\n",
      "1    1.000000\n",
      "2    0.933333\n",
      "3    1.000000\n",
      "4    0.933333\n",
      "dtype: float64\n"
     ]
    }
   ],
   "source": [
    "print(pcom_row.head())"
   ]
  },
  {
   "cell_type": "code",
   "execution_count": 44,
   "metadata": {},
   "outputs": [
    {
     "name": "stdout",
     "output_type": "stream",
     "text": [
      "   survived  pclass     sex   age  sibsp  parch     fare embarked  class  \\\n",
      "0         0       3    male  22.0      1      0   7.2500        S  Third   \n",
      "1         1       1  female  38.0      1      0  71.2833        C  First   \n",
      "2         1       3  female  26.0      0      0   7.9250        S  Third   \n",
      "3         1       1  female  35.0      1      0  53.1000        S  First   \n",
      "4         0       3    male  35.0      0      0   8.0500        S  Third   \n",
      "\n",
      "     who  adult_male deck  embark_town alive  alone  num_missing  \n",
      "0    man        True  NaN  Southampton    no  False            1  \n",
      "1  woman       False    C    Cherbourg   yes  False            0  \n",
      "2  woman       False  NaN  Southampton   yes   True            1  \n",
      "3  woman       False    C  Southampton   yes  False            0  \n",
      "4    man        True  NaN  Southampton    no   True            1  \n"
     ]
    }
   ],
   "source": [
    "titanic['num_missing']=titanic.apply(count_missing, axis=1)\n",
    "#새로운 열을 하나 추가해 NULL값의 갯수를 추가합니다.\n",
    "#단 axis=1은 행 -----------------------으로 nan의 개수를 세는데\n",
    "#단 axis=0은 열 default 세로로 쭉세줍니다.\n",
    "print(titanic.head())"
   ]
  },
  {
   "cell_type": "code",
   "execution_count": 46,
   "metadata": {},
   "outputs": [
    {
     "name": "stdout",
     "output_type": "stream",
     "text": [
      "     survived  pclass     sex  age  sibsp  parch      fare embarked  class  \\\n",
      "36          1       3    male  NaN      0      0    7.2292        C  Third   \n",
      "524         0       3    male  NaN      0      0    7.2292        C  Third   \n",
      "766         0       1    male  NaN      0      0   39.6000        C  First   \n",
      "826         0       3    male  NaN      0      0   56.4958        S  Third   \n",
      "485         0       3  female  NaN      3      1   25.4667        S  Third   \n",
      "557         0       1    male  NaN      0      0  227.5250        C  First   \n",
      "792         0       3  female  NaN      8      2   69.5500        S  Third   \n",
      "825         0       3    male  NaN      0      0    6.9500        Q  Third   \n",
      "846         0       3    male  NaN      8      2   69.5500        S  Third   \n",
      "578         0       3  female  NaN      1      0   14.4583        C  Third   \n",
      "\n",
      "       who  adult_male deck  embark_town alive  alone  num_missing  \n",
      "36     man        True  NaN    Cherbourg   yes   True            2  \n",
      "524    man        True  NaN    Cherbourg    no   True            2  \n",
      "766    man        True  NaN    Cherbourg    no   True            2  \n",
      "826    man        True  NaN  Southampton    no   True            2  \n",
      "485  woman       False  NaN  Southampton    no  False            2  \n",
      "557    man        True  NaN    Cherbourg    no   True            2  \n",
      "792  woman       False  NaN  Southampton    no  False            2  \n",
      "825    man        True  NaN   Queenstown    no   True            2  \n",
      "846    man        True  NaN  Southampton    no  False            2  \n",
      "578  woman       False  NaN    Cherbourg    no  False            2  \n"
     ]
    }
   ],
   "source": [
    "print(titanic.loc[titanic.num_missing>1,:].sample(10))\n",
    "#누락값이 1보다 큰 아이들의 데이터 .sample로 추출"
   ]
  },
  {
   "cell_type": "code",
   "execution_count": null,
   "metadata": {},
   "outputs": [],
   "source": []
  }
 ],
 "metadata": {
  "kernelspec": {
   "display_name": "Python 3",
   "language": "python",
   "name": "python3"
  },
  "language_info": {
   "codemirror_mode": {
    "name": "ipython",
    "version": 3
   },
   "file_extension": ".py",
   "mimetype": "text/x-python",
   "name": "python",
   "nbconvert_exporter": "python",
   "pygments_lexer": "ipython3",
   "version": "3.8.3"
  }
 },
 "nbformat": 4,
 "nbformat_minor": 4
}
